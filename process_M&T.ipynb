import pandas as pd

pd.set_option('display.max_rows', 1000) 
pd.set_option('display.width', 500) 
pd.set_option('display.max_columns', None) 
pd.set_option('display.max_colwidth',None)

svb=pd.read_csv('SVB 5.3.csv',skiprows=10) # dynamic ; skip rows only for M&T, NOT ModernTreasury API
filename = "svbcsr_batch_2021-05-03_1.csv" # dynamic

svb['acct']=svb.Text.str.split('OBI',0).str[1].str.extract(r'(\b[a-zA-Z]{4}[0-9]{6}\b)')
svb['name']=svb.Text.str.split('ORG:=',0).str[1].str.split(';').str[0]
svb['address']=svb.Text.str.split('ORG ADDRESS:=',0).str[1].str.split(';').str[0]

notnulled=svb[svb['acct'].notna()]
nulled=svb[svb['acct'].notna()==False]
nulled['acct']=nulled['Text'].str.split('OBI:=').str[1].str.split(';').str[0].str.split(' ').str[4:6].str.join("").str.extract(r'(\b[a-zA-Z]{4}[0-9]{6}\b)')
svb=notnulled.append(nulled)
notnulled=svb[svb['acct'].notna()]
nulled=svb[svb['acct'].notna()==False]
nulled['Text']=nulled['Text'].str.replace('TESLA',' TESLA ')
nulled['Text']=nulled['Text'].str.replace('ID:=',' ID:= ')
nulled['Text']=nulled['Text'].str.replace(" BNF/ "," BNF/ ")
nulled['acct']=nulled['Text'].str.extract(r'(\b[a-zA-Z]{4}[0-9]{6}\b)')
svb=notnulled.append(nulled)

print(len(svb))
print("NotNull: ",len(svb[svb.acct.notna()]))
print("IsNull: ",len(svb[svb.acct.isna()]))


df3 = svb.copy()

listedAccts = df3[df3.acct.notna()]
article_Accts = listedAccts.acct.to_list()
sql_list = str(tuple([key for key in article_Accts])).replace(',)', ')')

import mysql.connector

mydb = mysql.connector.connect(
    host = "reportingcluster.cluster-ro-coznnv5ul1oj.us-east-1.rds.amazonaws.com",
    user = "bwulster",
    passwd = ":}y=J9{qvL[%nq7d",
    database = "reportingdb"
)

mycursor = mydb.cursor()


#query ="SELECT accountNo,userid FROM `bo.accounts` LIMIT 5"
#query ="SELECT accountNo,userid FROM `bo.accounts`"
#SELECT table.field1, table.field2 FROM table WHERE length(field) > 10;

query ="""
    SELECT accountNo,userid FROM `bo.accounts` 
    WHERE accountNo IN {sql_list}""".format(sql_list=sql_list)



#mycursor.execute(query)
results = pd.read_sql(query, mydb)
mydb.close()

df_users = results.copy()
userids = df_users.userid.to_list()
sql_users_list = str(tuple([key for key in userids])).replace(',)', ')')


import mysql.connector


mydb = mysql.connector.connect(
    host = "reportingcluster.cluster-ro-coznnv5ul1oj.us-east-1.rds.amazonaws.com",
    user = "bwulster",
    passwd = ":}y=J9{qvL[%nq7d",
    database = "reportingdb"
)

mycursor = mydb.cursor()


query2 ="""
    SELECT firstName,lastName,ackForeignFindersFee,countryID,userid,addressLine1,addressLine2,city,stateProvince
    FROM `bo.users` 
    WHERE userid IN {sql_users_list}
""".format(sql_users_list=sql_users_list)
results2 = pd.read_sql(query2, mydb)

#query3 = 'SELECT * FROM `bo.users` LIMIT 5'
#query4 = 'SELECT * FROM `bo.accounts` LIMIT 5'
#users_1 = pd.read_sql(query3, mydb)
#accounts_1 = pd.read_sql(query4, mydb)
mydb.close()

merged = pd.merge(results,results2, how='left')


df_new = df3.copy()
df_new=df_new.rename(columns={'acct':'accountNo'})

merged2 = pd.merge(df_new, merged,how='left')
merged2 = merged2.rename(columns={'firstName':'TABLEAU_firstName','lastName':'TABLEAU_lastName'})
merged3 = merged2.rename(columns={'ackForeignFindersFee':'hasW8'})




merged4=merged3.sort_values(by='userid')


good = merged4[merged4.accountNo.notna()]
bad = merged4[merged4.accountNo.isna()]


import uuid

bb = bad.copy()
bb['accountNo'] = 'VSNY000117'
bb['batchCode']='RECEIPT_WIRE_SVB'

bb.Description=bb.Description.str.replace('Wire Transfer Credit','CSR')
bb=bb.rename(columns={'Description':'transactionType',
                      'Amount':'amount',
                     'Text':'comment'})
bb['note']=''
bb['noteSubject'] = bb.apply(lambda _: uuid.uuid4(), axis=1)

bad1 = bb[['accountNo','transactionType','batchCode','amount','comment','noteSubject','note']]

gg = good.copy()
gg=gg.rename(columns={'Amount':'amount'})
gg['transactionType']='CSR'
gg['batchCode']='RECEIPT_WIRE_SVB'
gg['comment']='SVB WIRE'
gg['note']=''
gg['noteSubject'] = ''

good1 = gg[['accountNo','transactionType','batchCode','amount','comment','noteSubject','note']]


dataframe = good1.append(bad1)
dataframe.head()


dataframe.to_csv(filename,index=False)

pd.read_csv(filename)
